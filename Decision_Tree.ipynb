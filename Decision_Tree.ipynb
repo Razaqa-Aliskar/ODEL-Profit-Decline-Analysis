{
  "nbformat": 4,
  "nbformat_minor": 0,
  "metadata": {
    "colab": {
      "provenance": [],
      "include_colab_link": true
    },
    "kernelspec": {
      "name": "python3",
      "display_name": "Python 3"
    },
    "language_info": {
      "name": "python"
    }
  },
  "cells": [
    {
      "cell_type": "markdown",
      "metadata": {
        "id": "view-in-github",
        "colab_type": "text"
      },
      "source": [
        "<a href=\"https://colab.research.google.com/github/Razaqa-Aliskar/ODEL-Profit-Decline-Analysis/blob/main/Decision_Tree.ipynb\" target=\"_parent\"><img src=\"https://colab.research.google.com/assets/colab-badge.svg\" alt=\"Open In Colab\"/></a>"
      ]
    },
    {
      "cell_type": "code",
      "execution_count": null,
      "metadata": {
        "id": "QEH84wLP-sQz"
      },
      "outputs": [],
      "source": [
        "import pandas as pd\n",
        "import numpy as np\n",
        "from sklearn.model_selection import train_test_split, GridSearchCV\n",
        "from sklearn.tree import DecisionTreeClassifier, DecisionTreeRegressor\n",
        "from sklearn.metrics import classification_report, confusion_matrix, RocCurveDisplay, mean_absolute_error, mean_squared_error, r2_score\n",
        "import matplotlib.pyplot as plt\n",
        "from sklearn import tree\n",
        "from sklearn.preprocessing import label_binarize\n",
        "from sklearn.metrics import roc_auc_score"
      ]
    },
    {
      "cell_type": "code",
      "source": [
        "df=pd.read_csv('traincsv cleaned III.csv')"
      ],
      "metadata": {
        "id": "r8TTA_S7_EHD"
      },
      "execution_count": null,
      "outputs": []
    },
    {
      "cell_type": "code",
      "source": [
        "target_col='cluster_catgeory'\n",
        "y=df[target_col]\n",
        "X=df.drop(columns=[target_col])"
      ],
      "metadata": {
        "id": "f1-BVkzm_WRH"
      },
      "execution_count": null,
      "outputs": []
    },
    {
      "cell_type": "code",
      "source": [
        "# (70% train, 30% test)\n",
        "X_train, X_test, y_train, y_test = train_test_split(X, y, test_size=0.3, random_state=42, stratify=y)"
      ],
      "metadata": {
        "id": "BRo_XUVZ_7Oz"
      },
      "execution_count": null,
      "outputs": []
    },
    {
      "cell_type": "code",
      "source": [
        "# Train Random Forest Classifier\n",
        "rf = RandomForestClassifier(n_estimators=100, max_depth=None, random_state=42)\n",
        "rf.fit(X_train, y_train)\n",
        "y_pred_rf = rf.predict(X_test)"
      ],
      "metadata": {
        "id": "s-a8650eC3At"
      },
      "execution_count": null,
      "outputs": []
    },
    {
      "cell_type": "code",
      "source": [
        "# Evaluate Classification Model\n",
        "print(\"Classification Report:\\n\", classification_report(y_test, y_pred_rf))\n",
        "print(\"Confusion Matrix:\\n\", confusion_matrix(y_test, y_pred_rf))"
      ],
      "metadata": {
        "id": "fxFQrF26rz6e"
      },
      "execution_count": null,
      "outputs": []
    },
    {
      "cell_type": "code",
      "source": [
        "# Hyperparameter tuning for Random Forest\n",
        "param_grid = {'n_estimators': [50, 100, 200], 'max_depth': [10, 20, None], 'criterion': ['gini', 'entropy']}\n",
        "rf_gscv = GridSearchCV(RandomForestClassifier(), param_grid, cv=5, scoring='recall_macro')\n",
        "rf_gscv.fit(X_train, y_train)\n",
        "print(\"Best Parameters:\", rf_gscv.best_params_)"
      ],
      "metadata": {
        "id": "QkKyrkztr4Oe"
      },
      "execution_count": null,
      "outputs": []
    },
    {
      "cell_type": "code",
      "source": [
        "# Train optimized Random Forest Classifier\n",
        "rf_optimal = RandomForestClassifier(**rf_gscv.best_params_)\n",
        "rf_optimal.fit(X_train, y_train)\n",
        "y_pred_rf_optimal = rf_optimal.predict(X_test)\n",
        "print(\"Optimized Classification Report:\\n\", classification_report(y_test, y_pred_rf_optimal))\n"
      ],
      "metadata": {
        "id": "WQli4eeer-3J"
      },
      "execution_count": null,
      "outputs": []
    }
  ]
}